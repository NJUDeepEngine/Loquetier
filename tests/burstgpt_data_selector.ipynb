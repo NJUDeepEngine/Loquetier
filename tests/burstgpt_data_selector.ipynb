{
 "cells": [
  {
   "cell_type": "code",
   "execution_count": null,
   "metadata": {},
   "outputs": [],
   "source": [
    "PATH_TO_BURSTGPT_CSV = ''\n",
    "timestamps = []\n",
    "\n",
    "with open(PATH_TO_BURSTGPT_CSV, 'r') as f:\n",
    "    l = f.readline()\n",
    "    l = f.readline()\n",
    "    while l != '':\n",
    "        timestamps.append(int(l.split(',')[0]))\n",
    "        l = f.readline()"
   ]
  },
  {
   "cell_type": "code",
   "execution_count": null,
   "metadata": {},
   "outputs": [],
   "source": [
    "for day in range(60):\n",
    "    start, end = 0, 0\n",
    "    for i, t in enumerate(timestamps):\n",
    "        if start == 0 and t > 3600 * 24 * day:\n",
    "            start = i\n",
    "        elif t > 3600 * 24 * (day + 1):\n",
    "            end = i\n",
    "            break\n",
    "    if day == 0:\n",
    "        start = 0\n",
    "    if end == 0:\n",
    "        end = len(timestamps)\n",
    "    \n",
    "    counts = {}\n",
    "    for t in timestamps[start:end]:\n",
    "        time = t % (3600 * 24)\n",
    "        hour = time // 3600\n",
    "        timespan = (time % 3600) // 1200\n",
    "        if hour not in counts:\n",
    "                counts[hour] = { timespan: [t] }\n",
    "        elif timespan >= len(counts[hour]):\n",
    "                counts[hour][timespan] = [t]\n",
    "        else:\n",
    "                counts[hour][timespan].append(t)\n",
    "    \n",
    "    print('-' * 20, f'{day}', '-' * 20)\n",
    "    for h in list(counts.keys()):\n",
    "        print(f'{h}: {len(counts[h][0]) if 0 in counts[h] else 0} | ', end='')\n",
    "        print(f'{len(counts[h][1]) if 1 in counts[h] else 0} | ', end='')\n",
    "        print(f'{len(counts[h][2]) if 2 in counts[h] else 0}')"
   ]
  },
  {
   "cell_type": "code",
   "execution_count": null,
   "metadata": {},
   "outputs": [],
   "source": [
    "day = 29"
   ]
  },
  {
   "cell_type": "code",
   "execution_count": null,
   "metadata": {},
   "outputs": [],
   "source": [
    "start, end = 0, 0\n",
    "for i, t in enumerate(timestamps):\n",
    "    if start == 0 and t > 3600 * 24 * day:\n",
    "        start = i\n",
    "    elif t > 3600 * 24 * (day + 1):\n",
    "        end = i\n",
    "        break\n",
    "if day == 0:\n",
    "    start = 0\n",
    "if end == 0:\n",
    "    end = len(timestamps)"
   ]
  },
  {
   "cell_type": "code",
   "execution_count": null,
   "metadata": {},
   "outputs": [],
   "source": [
    "counts = {}\n",
    "for t in timestamps[start:end]:\n",
    "    time = t % (3600 * 24)\n",
    "    hour = time // 3600\n",
    "    timespan = (time % 3600) // 1200\n",
    "    if hour not in counts:\n",
    "            counts[hour] = { timespan: [t] }\n",
    "    elif timespan >= len(counts[hour]):\n",
    "            counts[hour][timespan] = [t]\n",
    "    else:\n",
    "            counts[hour][timespan].append(t)"
   ]
  },
  {
   "cell_type": "code",
   "execution_count": null,
   "metadata": {},
   "outputs": [],
   "source": [
    "for h in list(counts.keys()):\n",
    "    print(f'{h}: {len(counts[h][0]) if 0 in counts[h] else 0} | ', end='')\n",
    "    print(f'{len(counts[h][1]) if 1 in counts[h] else 0} | ', end='')\n",
    "    print(f'{len(counts[h][2]) if 2 in counts[h] else 0}')"
   ]
  },
  {
   "cell_type": "code",
   "execution_count": null,
   "metadata": {},
   "outputs": [],
   "source": [
    "with open('./configs/burstgpt_day29_partial.txt', 'w') as f:\n",
    "    for t in counts[13][0]:\n",
    "        t -= day * 86400\n",
    "        t += 0 * 20 * 60\n",
    "        f.write(f'{t - 13 * 3600 - 0 * 1200}\\n')\n",
    "    for t in counts[15][0]:\n",
    "        t -= day * 86400\n",
    "        t += 1 * 20 * 60\n",
    "        f.write(f'{t - 15 * 3600 - 0 * 1200}\\n')\n",
    "    for t in counts[16][0]:\n",
    "        t -= day * 86400\n",
    "        t += 2 * 20 * 60\n",
    "        f.write(f'{t - 16 * 3600 - 0 * 1200}\\n')"
   ]
  }
 ],
 "metadata": {
  "language_info": {
   "name": "python"
  }
 },
 "nbformat": 4,
 "nbformat_minor": 2
}
